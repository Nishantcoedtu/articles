{
 "cells": [
  {
   "cell_type": "markdown",
   "metadata": {},
   "source": [
    "# Битовое сжатие\n",
    "\n",
    "* Из-за него в «асимптотиках» появляется `/64`\n",
    "* На Всеросе часто дают задачи, где оно может принести «бесплатные» ~20 баллов\n",
    "* `bitset` есть в stl; говорят, самописный быстрее"
   ]
  },
  {
   "cell_type": "markdown",
   "metadata": {},
   "source": [
    "Процессор так устроен, что работает сразу с блоками по 32 или 64 бита (зависит от архитектуры, но получить что-то меньше одного байта он в принципе не может). Иными словами, сделать `&` двух `bool`-ом и двух `long`-ов примерно одинаково по скорости.\n",
    "\n",
    "Часто нам требуется сделать много одинаковых операций над элементами булевого массива. Проксорить два массива, например. Здесь появляется такая идея: сгруппировать элементы массива в блоки по 64 и каждый блок считать двоичным числом. Тогда мы можем ксорить сразу все 64 бита за одну операцию."
   ]
  },
  {
   "cell_type": "markdown",
   "metadata": {},
   "source": [
    "Это всё можно кодить и вручную, но в STL это уже сделали до нас, создав структуру, ведущую себя как большое двоичное число со всеми стандартными битовыми операциями — `bitset`. \n",
    "\n",
    "Работать с ним нужно вот так:"
   ]
  },
  {
   "cell_type": "code",
   "execution_count": null,
   "metadata": {
    "collapsed": true
   },
   "outputs": [],
   "source": [
    "const int lim = 1000;\n",
    "bitset<lim> b; // создать битсет размера lim (должно быть константой)\n",
    "b.set();       // заполнить единицами\n",
    "b.reset();     // заполнить нулями\n",
    "b.flip();      // заменить единички на нули и наоборот\n",
    "b.count();     // посчитать число единичек\n",
    "cout << b;     // вывести битовую строку"
   ]
  },
  {
   "cell_type": "markdown",
   "metadata": {},
   "source": [
    "Также для битсетов работает вся битовая арифметика — `&, |, ^, ~, <<, >>` и их варианты с `[operator]=`."
   ]
  },
  {
   "cell_type": "markdown",
   "metadata": {},
   "source": [
    "## Рюкзак\n",
    "\n",
    "Задача: даны $n$ предметов с положительными целыми весами $a_i$ и рюкзак размера $lim$, выбрать подмножество предметов с максимальной суммой, не превышающий размер рюкзака.\n",
    "\n",
    "Обычно его решают так:"
   ]
  },
  {
   "cell_type": "code",
   "execution_count": null,
   "metadata": {
    "collapsed": true
   },
   "outputs": [],
   "source": [
    "bool dp[lim] = {}; // так можно его заполнить нулями\n",
    "dp[0] = 1;\n",
    "for (int i = 0; i < n; i++)\n",
    "    for (int x = lim - a[i]; x >= 0; x--)\n",
    "        dp[x + a[i]] |= dp[x];"
   ]
  },
  {
   "cell_type": "markdown",
   "metadata": {},
   "source": [
    "…а с битсетом оно разгоняется так:"
   ]
  },
  {
   "cell_type": "code",
   "execution_count": null,
   "metadata": {
    "collapsed": true
   },
   "outputs": [],
   "source": [
    "bitset<lim> b;\n",
    "b[0] = 1;\n",
    "for (int i = 0; i < n; i++)\n",
    "    b |= b << a[i];"
   ]
  },
  {
   "cell_type": "markdown",
   "metadata": {},
   "source": [
    "## Цикл длины 3\n",
    "\n",
    "Пусть нам нужно узнать, есть ли цикл длины 3 в графе из $n$ вершин, заданном своей матрицей смежности. Обернем матрицу в битсет, и тогда задача решается за $O(\\frac{n^3}{64})$ следующим образом:"
   ]
  },
  {
   "cell_type": "code",
   "execution_count": null,
   "metadata": {
    "collapsed": true
   },
   "outputs": [],
   "source": [
    "bitset<maxn> g[maxn]; // матрица смежности\n",
    "for (int a = 0; a < n; a++) {\n",
    "    for (int b = 0; b < n; b++) {\n",
    "        if (g[a][b] && (g[a] & g[b]).any()) {\n",
    "            // цикл найден\n",
    "        }\n",
    "    }\n",
    "}"
   ]
  },
  {
   "cell_type": "markdown",
   "metadata": {},
   "source": [
    "Benchmark: на серверах CodeForces этот код при $n = 5000$ работает за 7 секунд."
   ]
  },
  {
   "cell_type": "markdown",
   "metadata": {},
   "source": [
    "## Перемножение матриц\n",
    "\n",
    "Матрица смежности графа, возведенная в степень $n$, имеет комбинаторный смысл: количество способов дойти из $a$ в $b$, используя ровно $n$ переходов. Иногда нам не нужно знать число способов, и нам просто хватит знания, можно ли вообще через $n$ ходов там оказаться. Тогда вместо числового умножения нам хватит битового умножения:"
   ]
  },
  {
   "cell_type": "code",
   "execution_count": null,
   "metadata": {
    "collapsed": true
   },
   "outputs": [],
   "source": [
    "typedef bitset<maxn> t;\n",
    "typedef array<t, maxn> matrix;\n",
    "\n",
    "matrix operator* (matrix a, matrix b) {\n",
    "    matrix c;\n",
    "    for(int i = 0; i < maxn; i++)\n",
    "        for(int j = 0; j < maxn; j++)\n",
    "            if(a[i][j])\n",
    "                c[i] |= b[j];\n",
    "    return c;\n",
    "}"
   ]
  },
  {
   "cell_type": "markdown",
   "metadata": {},
   "source": [
    "(Я не уверен на 100%, что код рабочий.)"
   ]
  },
  {
   "cell_type": "markdown",
   "metadata": {},
   "source": [
    "## Гаусс\n",
    "\n",
    "TODO"
   ]
  }
 ],
 "metadata": {
  "kernelspec": {
   "display_name": "C++17",
   "language": "C++",
   "name": "cling-cpp17"
  },
  "language_info": {
   "codemirror_mode": "c++",
   "file_extension": ".c++",
   "mimetype": "text/x-c++src",
   "name": "c++"
  }
 },
 "nbformat": 4,
 "nbformat_minor": 2
}
