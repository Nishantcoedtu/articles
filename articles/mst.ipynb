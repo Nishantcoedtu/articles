{
 "cells": [
  {
   "cell_type": "markdown",
   "metadata": {},
   "source": [
    "# Минимальные остовы"
   ]
  },
  {
   "cell_type": "markdown",
   "metadata": {},
   "source": [
    "Рассмотрим такую задачу: дан неориентированный граф с рёбрами положительной стоимости, и мы в нем хотим выбрать такой подграф, который будет. Такой подграф называется минимальным остовным деревом (англ. minimum spanning tree)."
   ]
  },
  {
   "cell_type": "markdown",
   "metadata": {},
   "source": [
    "**Остовное дерево является деревом**. Если бы оно не было деревом, то где-то был бы цикл, из которого можно было бы что-то удалить и получить граф поменьше."
   ]
  },
  {
   "cell_type": "markdown",
   "metadata": {},
   "source": []
  },
  {
   "cell_type": "markdown",
   "metadata": {},
   "source": [
    "# Алгоритм Прима"
   ]
  },
  {
   "cell_type": "markdown",
   "metadata": {},
   "source": [
    "Это мало когда применяется, но, так же как и с Дейкстрой, он может и работать без лагорифма, когда граф полный. Нужно просто забыть про приоритетную очередь и каждый раз за линию искать новую вершину."
   ]
  },
  {
   "cell_type": "markdown",
   "metadata": {},
   "source": [
    "Совсем наивная реализация — каждый раз перебираем все рёбра:"
   ]
  },
  {
   "cell_type": "code",
   "execution_count": null,
   "metadata": {
    "collapsed": true
   },
   "outputs": [],
   "source": [
    "const int maxn = 1e5;\n",
    "vector<int> from, to, weight;\n",
    "bool used[maxn]\n",
    "\n",
    "// считать все рёбра в массивы\n",
    "\n",
    "used[0] = 1;\n",
    "for (int i = 0; i < n-1; i++) {\n",
    "    int opt_w = inf, opt_from, opt_to;\n",
    "    for (int j = 0; j < m; j++)\n",
    "        if (opt_w < weight[j] && used[from[j]] && !used[to[j]])\n",
    "            opt_w = weight[j], opt_from = from[j], opt_to = to[j]\n",
    "    used[opt_to] = 1;\n",
    "    cout << opt_from << \" \" << opt_to << endl;\n",
    "}"
   ]
  },
  {
   "cell_type": "markdown",
   "metadata": {},
   "source": [
    "Реализация за $O(n^2)$:"
   ]
  },
  {
   "cell_type": "code",
   "execution_count": null,
   "metadata": {
    "collapsed": true
   },
   "outputs": [],
   "source": [
    "const int maxn = 1e5, inf = 1e9;\n",
    "bool used[maxn];\n",
    "vector< pair<int, int> > g[maxn];\n",
    "int min_edge[maxn] = {inf}, best_edge[maxn];\n",
    "min_edge[0] = 0;\n",
    "\n",
    "// ...\n",
    "\n",
    "for (int i = 0; i < n; i++) {\n",
    "    int v = -1;\n",
    "    for (int u = 0; u < n; j++)\n",
    "        if (!used[u] && (v == -1 || min_edge[u] < min_edge[v]))\n",
    "            v = u;\n",
    " \n",
    "    used[v] = 1;\n",
    "    if (v != 0)\n",
    "        cout << v << \" \" << best_edge[v] << endl;\n",
    " \n",
    "    for (auto e : g[v]) {\n",
    "        int u = e.first, w = e.second;\n",
    "        if (w < min_edge[u]) {\n",
    "            min_edge[u] = w;\n",
    "            best_edge[u] = v;\n",
    "        }\n",
    "    }\n",
    "}"
   ]
  },
  {
   "cell_type": "markdown",
   "metadata": {},
   "source": [
    "# Алгоритм Крускала"
   ]
  },
  {
   "cell_type": "markdown",
   "metadata": {},
   "source": [
    "Чтобы реализовать этот алгоритм, нам понадобится такая структура."
   ]
  },
  {
   "cell_type": "markdown",
   "metadata": {},
   "source": [
    "# Система непересекающихся множеств"
   ]
  },
  {
   "cell_type": "code",
   "execution_count": null,
   "metadata": {
    "collapsed": true
   },
   "outputs": [],
   "source": [
    "int _p[maxn];\n",
    "\n",
    "int p (int v) {\n",
    "    if (_p[v] == v)\n",
    "        return v;\n",
    "    else\n",
    "        return p(_p[v]);\n",
    "}\n",
    "\n",
    "void unite (int a, int b) {\n",
    "    a = p(a), b = p(b);\n",
    "    if (s[a] > s[b]) swap(a, b);\n",
    "    s[b] += s[a];\n",
    "    _p[a] = b;\n",
    "}\n",
    "\n",
    "for (int i = 0; i < n; i++)\n",
    "    _p[i] = i;"
   ]
  },
  {
   "cell_type": "markdown",
   "metadata": {},
   "source": [
    "1"
   ]
  },
  {
   "cell_type": "markdown",
   "metadata": {},
   "source": [
    "Асимптотика объединения обеих эвристик (сжатия путей и одной из ранговых) — O(a(n)), где a(n) — обратная функция Аккермана (очень медленно растущая функция, для всех адекватных чисел не превосходящая 4). Тратить время на изучения доказательства или даже чтения статьи на Википедии про функцию Аккермана автор не рекомендует."
   ]
  },
  {
   "cell_type": "markdown",
   "metadata": {},
   "source": []
  },
  {
   "cell_type": "code",
   "execution_count": null,
   "metadata": {
    "collapsed": true
   },
   "outputs": [],
   "source": [
    "int _p[maxn], s[maxn];\n",
    "\n",
    "int p (int v) { return (_p[v] == v) ? v : _p[v] = p(_p[v]); }\n",
    "\n",
    "void unite (int a, int b) {\n",
    "    a = p(a), b = p(b);\n",
    "    if (s[a] > s[b]) swap(a, b);\n",
    "    s[b] += s[a];\n",
    "    _p[a] = b;\n",
    "}\n",
    "\n",
    "for (int i = 0; i < n; i++)\n",
    "    _p[i] = i;"
   ]
  },
  {
   "cell_type": "markdown",
   "metadata": {},
   "source": [
    "# Полезные свойства и классические задачи"
   ]
  },
  {
   "cell_type": "markdown",
   "metadata": {},
   "source": [
    "* Если веса всех рёбер различны, то остов будет уникален.\n",
    "* Минимальный остов является также и остовом с минимальным произведением весов рёбер (замените веса всех рёбер на их логарифмы)\n",
    "* Минимальный остов является также и остовом с минимальным весом самого тяжелого ребра.\n",
    "* Если вы решаете задачу, где ребра не добавляются, а удаляются, то можно попробовать решать задачу «с конца» и применить алгоритм Крускала."
   ]
  }
 ],
 "metadata": {
  "kernelspec": {
   "display_name": "C++17",
   "language": "C++",
   "name": "cling-cpp17"
  },
  "language_info": {
   "codemirror_mode": "c++",
   "file_extension": ".c++",
   "mimetype": "text/x-c++src",
   "name": "c++"
  }
 },
 "nbformat": 4,
 "nbformat_minor": 2
}
