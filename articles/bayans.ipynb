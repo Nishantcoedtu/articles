{
 "cells": [
  {
   "cell_type": "markdown",
   "metadata": {},
   "source": [
    "# Красивые идейные задачи\n",
    "\n",
    "Везде, где не указано — время работы $O(n)$, а если есть конкретные числа, то TL 1 секунда.\n",
    "\n",
    "Задачи идут в порядке вспоминания, то есть в весьма рандомном."
   ]
  },
  {
   "cell_type": "markdown",
   "metadata": {},
   "source": [
    "## Попугаи\n",
    "\n",
    "Вам нужно передать 64 байт некоторой информации. Для этого у вас есть 320 специально обученных попугаев, каждый из которых может запомнить число от 0 до 255. Все попугаи рано или поздно долетают до точки назначения и сообщают свой байт, но, возможно, не в том порядке, в котором были выпущены. Попугаи внешне неразличимы."
   ]
  },
  {
   "cell_type": "markdown",
   "metadata": {},
   "source": [
    "## Минимум и максимум\n",
    "\n",
    "Даны 68 камней разного веса. Требуется за 100 операций взвешивания определить самый лёгкий и самый тяжелый."
   ]
  },
  {
   "cell_type": "markdown",
   "metadata": {},
   "source": [
    "## Перестановка\n",
    "\n",
    "Есть перестановка из 64 элементов. Вы можете спрашивать, какие элементы находятся на заданном множестве позиций (вам сообщается список элементов в произвольном порядке). Восстановите перестановку за 6 запросов."
   ]
  },
  {
   "cell_type": "markdown",
   "metadata": {},
   "source": [
    "## Выпуклая оболочка\n",
    "Требуется отвечать на 2 типа запросов:\n",
    "\n",
    "1. Добавить точку в выпуклую оболочку.\n",
    "2. Проверить, лежит ли точка внутри выпуклой оболочки.\n",
    "\n",
    "Обе операции онлайн за $O(\\log n)$."
   ]
  },
  {
   "cell_type": "markdown",
   "metadata": {},
   "source": [
    "## Геометрическая прогрессия\n",
    "\n",
    "Найдите способ посчитать $\\frac{1-a^n}{1-a}$ по произвольному модулю за $O(\\log n)$."
   ]
  },
  {
   "cell_type": "markdown",
   "metadata": {},
   "source": [
    "## Покемоны\n",
    "\n",
    "В турнире участвуют 1024 видов покемонов. Вы, будучи экспертом по покемонам, знаете, кто кого может победить. Иначе говоря, вам полностью известен граф-*турнир* из 1024 вершин и $1023 \\times 1022 : 2$ рёбер, в котором каждые две вершины соединены ровно одним ориентированным ребром, определяющим победителя в возможном поединке. У вас есть 10 покеболов. Обратите внимание, что из $a \\to b$ и $b \\to c$ не следует, что $a \\to c$.\n",
    "\n",
    "Составьте команду из 10 покемонов, такую что для каждого из 1024 типов покемонов в вашей команде найдется покемон, побеждающий его. Считайте, что в битве одинаковых покемонов побеждает ваш."
   ]
  },
  {
   "cell_type": "markdown",
   "metadata": {},
   "source": [
    "## Сортировка\n",
    "Можно ли отсортировать\n",
    "* 5 камней за 8 взвешиваний?\n",
    "* 5 камней за 7 взвешиваний?\n",
    "* 20 камней за 60 взвешиваний?"
   ]
  },
  {
   "cell_type": "markdown",
   "metadata": {},
   "source": [
    "## Точки в круге\n",
    "\n",
    "Даны $n$ точек, равномерно распределенных в единичном круге с центром в начале координат. Предложите алгоритм, который за $O(n)$ в среднем сортирует их по удаленности от начала координат."
   ]
  },
  {
   "cell_type": "markdown",
   "metadata": {},
   "source": [
    "## Замкнутые ломаные\n",
    "\n",
    "Даны две замкнутые несамопересекающиеся ломаные. Определите, можно ли перевести их друг в друга с помощью параллельного переноса, поворотов и гомотетии?"
   ]
  },
  {
   "cell_type": "markdown",
   "metadata": {},
   "source": [
    "## Неубывающий массив\n",
    "\n",
    "Дан массив из $n$ целых чисел. Требуется за $2n$ операций «прибавить к одному элементу любой другой» сделать его неубывающим."
   ]
  },
  {
   "cell_type": "markdown",
   "metadata": {},
   "source": [
    "## Чётный цикл\n",
    "\n",
    "Дан неориентированный граф. Определите, есть ли в нём простой цикл чётной длины."
   ]
  },
  {
   "cell_type": "markdown",
   "metadata": {},
   "source": [
    "## $k$-ая порядковая статистика\n",
    "\n",
    "Дан массив из $n$ целых чисел. Найдите его $k$-й наименьший элемент за $O(n)$."
   ]
  },
  {
   "cell_type": "markdown",
   "metadata": {},
   "source": [
    "## Доминирующий элемент\n",
    "\n",
    "Дан массив из $n$ элементов. Требуется ответить на $m$ запросов, есть ли на отрезке $[l, r]$ *доминирующий* элемент — тот, который встречается на нём хотя бы $\\frac{r-l}{2}$ раз. Время работы $O((n+m) \\log n)$."
   ]
  },
  {
   "cell_type": "markdown",
   "metadata": {},
   "source": [
    "## Разрушение дерева\n",
    "\n",
    "Дано корневое дерево. Каждую итерацию выбирается вершина (равновероятно из всех оставшихся), и удаляется всё поддерево, соответствующее этой вершине. Найти, сколько ходов в среднем будет продолжаться этот процесс, то есть матожидание номера итерации, на которой будет удалён корень дерева."
   ]
  },
  {
   "cell_type": "markdown",
   "metadata": {},
   "source": [
    "## $k$-ый элемент на отрезке\n",
    "\n",
    "Дан массив из $n$ целых чисел. Требуется ответить на $m$ запросов $k$-ой порядковой статистики на произвольном отрезке. Время работы $O((n+m) \\log n)$."
   ]
  },
  {
   "cell_type": "markdown",
   "metadata": {},
   "source": [
    "## Различные числа на отрезке\n",
    "\n",
    "Дан массив из $n$ целых чисел. Требуется ответить на $m$ запросов количества различных элементов на произвольном отрезке. Время работы $O(m\\sqrt{n})$."
   ]
  },
  {
   "cell_type": "markdown",
   "metadata": {},
   "source": [
    "## Физкультура\n",
    "\n",
    "Зачёт по физкультуре в одном институте ставится по количеству посещений, поэтому важно знать, сколько учебных дней осталось до конца семестра (особенно когда напропускал пары). Семестр длится $m$ дней. Деканат последовательно издает $n$ приказов двух типов:\n",
    "\n",
    "1. Объявить все дни с $l$ по $r$ выходными (физру закрывать нельзя)\n",
    "2. Объявить все дни с $l$ по $r$ учебными (физру закрывать можно)\n",
    "\n",
    "При этом приказ может частично отменить действие предыдущих приказов.\n",
    "\n",
    "После каждого приказа нужно посчитать суммарное число учебных дней в семестре. Асимптотика $O(n \\log n)$."
   ]
  },
  {
   "cell_type": "markdown",
   "metadata": {},
   "source": [
    "## Нулевая сумма\n",
    "\n",
    "Дано  мультимножество из $n$ целых чисел. Найдите любое его подмножество, сумма чисел которого делится на $n$."
   ]
  },
  {
   "cell_type": "markdown",
   "metadata": {},
   "source": [
    "## Мета-задача\n",
    "\n",
    "В задаче дана произвольная строка, по которой известным только авторам способом генерируется ответ yes/no. В задаче 100 тестов. У вас есть 20 попыток. В качестве фидбэка вам доступны вердикты на каждом тесте. Вердикта всего два: OK (ответ совпал) и WA. Попытки поделить на ноль, выделить терабайт памяти и подобное тоже считаются как WA. «Решите» задачу."
   ]
  },
  {
   "cell_type": "markdown",
   "metadata": {},
   "source": [
    "## Ниточка\n",
    "\n",
    "В плоскую доску вбили $n$ гвоздей радиуса $r$, причём так, что соответствующие точки на плоскости образуют вершины выпуклого многоугольника. На эти гвозди натянули ниточку, причём ниточка «огибает» по кругу гвозди. Найдите длину ниточки, то есть периметр этого многоугольника с учётом закругления."
   ]
  },
  {
   "cell_type": "markdown",
   "metadata": {},
   "source": [
    "## Пельмени\n",
    "\n",
    "Компания друзей захотела сделать заготовки для пельменей из огромного прямоугольного куска теста. Для этого в ход пошли всевозможные предметы округлой формы: стаканы, кружки, кострюли… В итоге тесто было разделено $n$ возможно пересекающимися окружностями произвольных радиусов и центров. Нам интересно посчитать, сколько получилось заготовок, то есть на сколько кусков распалось тесто. Асимптотика $O(n^2 \\log n)$."
   ]
  },
  {
   "cell_type": "markdown",
   "metadata": {},
   "source": [
    "## От нуля до единицы\n",
    "\n",
    "Дан следующий код:"
   ]
  },
  {
   "cell_type": "code",
   "execution_count": null,
   "metadata": {
    "collapsed": true
   },
   "outputs": [],
   "source": [
    "x = 0\n",
    "while x < 1:\n",
    "    x += random()"
   ]
  },
  {
   "cell_type": "markdown",
   "metadata": {},
   "source": [
    "Требуется посчитать матожидание `x`.\n",
    "\n",
    "(`random` в питоне возвращает случайное действительное число от 0 до 1.)"
   ]
  },
  {
   "cell_type": "markdown",
   "metadata": {},
   "source": [
    "## Площадь\n",
    "\n",
    "Дан единичный квадрат и 100 кругов. Нужно посчитать площадь квадрата, которую покрывают эти круги, с ошибкой менее 1%."
   ]
  },
  {
   "cell_type": "markdown",
   "metadata": {},
   "source": [
    "## Окружности\n",
    "\n",
    "Имеется окружность радиуса $R$, назовём её *внешней*. Внутри неё лежит окружность радиуса $r < R$ и соприкасается с ней. Дальше строятся бесконечное число окружностей по следующему правилу: $k$-я окружность должна\n",
    "\n",
    "* соприкасаться с *внешней*,\n",
    "* соприкасаться с предыдущей ($k-1$-ой),\n",
    "* иметь при этом максимальный радиус.\n",
    "\n",
    "Найдите (выведите формулу за $O(1)$) радиус $k$-й такой окружности. "
   ]
  },
  {
   "cell_type": "markdown",
   "metadata": {},
   "source": [
    "## Блеф\n",
    "\n",
    "Катя и Серёжа играют в игру. У Кати есть $n$ карт, у Серёжи — $m$. Одна дополнительная карта лежит на столе рубашкой вверх. Назовём её *особой*. Цель игроков — её отгадать. Все $n+m+1$ карт различны, игроки изначально знают только свои карты. Игроки ходят по очереди, начинает Катя. Игрок в свой ход может:\n",
    "\n",
    "* Попытаться угадать *особую* карту. Если получилось угадать, то игрок победил, иначе проиграл. В любом случае, игра на этом заканчивается.\n",
    "* Назвать любую карту из колоды. Если у соперника есть такая карта — он обязан показать ее и вывести из игры. Если же у него нет такой карты — он сообщает об этом.\n",
    "\n",
    "С какой вероятностью выиграет Катя при оптимальной игре обоих игроков? Асимптотика $O(nm)$."
   ]
  },
  {
   "cell_type": "markdown",
   "metadata": {},
   "source": [
    "## Достижимость\n",
    "Дан ориентированный граф без кратных рёбер. Для всех пар вершин $u$ и $v$ определите, можно ли дойти из $u$ в $v$. Вершин меньше 2000."
   ]
  },
  {
   "cell_type": "markdown",
   "metadata": {},
   "source": [
    "## Нумизмат\n",
    "\n",
    "Есть $n$ жадных коллекционеров монет, которые согласны меняться, только если взамен монеты, которых у них более одной, они получают монету, которых у нет вовсе. Известно количество монет каждого типа у каждого коллекционера и у коллекционера Серёжи. Серёжа хочет максимизировать количество различных монет у него путем обмена с жадными коллекционерами. Считается, что жадные коллекционеры не меняются между собой.\n",
    "\n",
    "TODO: указать ограничения"
   ]
  },
  {
   "cell_type": "markdown",
   "metadata": {},
   "source": [
    "## Принцесса\n",
    "\n",
    "В некотором королевстве жила принцесса. Она была настольно прекрасна, что каждый юноша в королевстве хотел жениться на ней. Принцесса была привередлива, поэтому твердо решила выйти замуж только за самого красивого юношу в государстве.\n",
    "\n",
    "Она составила список из $n$ самых красивых юношей и вызывает их каждый день в случайном порядке. После того, как к ней приходит очередной юноша, она принимает решение: либо выйти за него замуж, либо нет. Если она выходит за него замуж, то она все равно просматривает всех остальных, чтобы убедиться, что он действительно самый красивый. Если это так, то они живут долго и счастливо. Если нет (если она вышла замуж не за самого красивого, либо не вышла замуж вообще), то принцесса покончит жизнь самоубийством.\n",
    "\n",
    "У принцессы очень хорошая память, поэтому она может сравнивать красоту очередного юноши со всеми предыдущими, а также у неё тонкий вкус, поэтому никакие двое юношей не являются для неё одинаково красивыми.\n",
    "\n",
    "Помогите принцессе разработать стратегую, которая максимизирует вероятность того, что она выйдет замуж за наиболее красивого юношу.\n",
    "\n",
    "Асимптотика $O(n^2)$."
   ]
  },
  {
   "cell_type": "markdown",
   "metadata": {},
   "source": [
    "## Спираль\n",
    "\n",
    "Определим спираль $(2n+1) \\times (2n+1)$ как матрицу следующего вида:\n",
    "\n",
    "$$\n",
    "\\begin{matrix}\n",
    "21 & 22 & 23 & 24 & 25 \\\\\n",
    "20 & 7 &  8 &  9 & 10 \\\\\n",
    "19 & 6 &  1 &  2 & 11 \\\\\n",
    "18 & 5 &  4 &  3 & 12 \\\\\n",
    "17 & 16 & 15 & 14 & 13 \\\\\n",
    "\\end{matrix}\n",
    "$$"
   ]
  },
  {
   "cell_type": "markdown",
   "metadata": {},
   "source": [
    "Ваша задача — рассчитать ответы на $q$ запросов суммы чисел в произвольной прямоугольной области (по модулю $10^9+7$).\n",
    "\n",
    "$q \\leq 100$, $n \\leq 10^9$."
   ]
  },
  {
   "attachments": {
    "Screenshot%20from%202018-03-25%2014-58-32.png": {
     "image/png": "[encoded data removed]"
    }
   },
   "cell_type": "markdown",
   "metadata": {},
   "source": [
    "## Польский лабиринт\n",
    "\n",
    "Группа из $n$ туристов гуляет в бесконечном лабиринте. Лабиринт имеет форму треугольника Серпинского: клетка $(x, y)$ свободна, только если `x & y == 0`.\n",
    "\n",
    "![Screenshot%20from%202018-03-25%2014-58-32.png](attachment:Screenshot%20from%202018-03-25%2014-58-32.png)\n",
    "\n",
    "Туристы устали блуждать по лабиринту и хотят встретиться в какой-нибудь свободной клетке, сумма расстояний от всех туристов до которой наименьшая. Туристы за один ход могут передвигаться вверх, вниз, влево и вправо по свободным клеткам.\n",
    "\n",
    "$n \\leq 10^5$, изначальные координаты туристов до $10^9$."
   ]
  },
  {
   "cell_type": "markdown",
   "metadata": {},
   "source": [
    "## Перемешанные биты\n",
    "\n",
    "Один программист реализовывал структуру данных для работы с $n$-битными числами, где $n$ — степень двойки. Можно считать, что структура данных работает как `set`. Он допустил баг: при добавлении числа, его биты перемешиваются в соответствии с некоторой перестановкой $p$, и в таком виде уже добавляются.\n",
    "\n",
    "От вас требуется восстановить эту перестановку. Вы можете добавить в структуру $w$ чисел, и после этого сделать $r$ запросов «есть ли число $x$».\n",
    "\n",
    "$n = 128$, $w = 896$, $r = 896$.\n",
    "\n",
    "TODO"
   ]
  },
  {
   "cell_type": "markdown",
   "metadata": {},
   "source": [
    "## Ним\n",
    "\n",
    "Есть множество $A$, состоящее из $n$ чисел от 0 до $2^{32}-1$. Требуется выбрать его подмножество $B \\subseteq A$ максимальной суммы такое, что нельзя выбрать его подмножество $C \\subseteq B$ такое, что ним на кучках соответствующего размера — проигрышный. Асимптотика $O(n \\log n)$."
   ]
  }
 ],
 "metadata": {
  "kernelspec": {
   "display_name": "Python 3",
   "language": "python",
   "name": "python3"
  },
  "language_info": {
   "codemirror_mode": {
    "name": "ipython",
    "version": 3
   },
   "file_extension": ".py",
   "mimetype": "text/x-python",
   "name": "python",
   "nbconvert_exporter": "python",
   "pygments_lexer": "ipython3",
   "version": "3.5.2"
  }
 },
 "nbformat": 4,
 "nbformat_minor": 2
}
