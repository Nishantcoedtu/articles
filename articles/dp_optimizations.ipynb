{
 "cells": [
  {
   "cell_type": "markdown",
   "metadata": {},
   "source": [
    "## Оптимизации динамики\n",
    "\n",
    "* «Разделяй и властвуй»\n",
    "* Оптимизация Кнута\n",
    "* Convex Hull Trick\n",
    "* Лямбда-оптимизация\n",
    "\n",
    "Очень часто некоторые из них можно применить к одной и той же задаче. IOI Aliens — хороший пример."
   ]
  },
  {
   "cell_type": "markdown",
   "metadata": {},
   "source": [
    "## Лямбда-оптимизация\n",
    "\n",
    "Пусть у нас есть функция $f(x)$, которую сложно посчитать. Но пусть при этом нам легко посчитать g(x) = "
   ]
  }
 ],
 "metadata": {
  "kernelspec": {
   "display_name": "C++17",
   "language": "C++",
   "name": "cling-cpp17"
  },
  "language_info": {
   "codemirror_mode": "c++",
   "file_extension": ".c++",
   "mimetype": "text/x-c++src",
   "name": "c++"
  }
 },
 "nbformat": 4,
 "nbformat_minor": 2
}
