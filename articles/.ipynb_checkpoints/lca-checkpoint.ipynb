{
 "cells": [
  {
   "cell_type": "markdown",
   "metadata": {
    "colab_type": "text",
    "id": "1MwyLmBaV1hj"
   },
   "source": [
    "# Наименьший общий предок"
   ]
  },
  {
   "cell_type": "markdown",
   "metadata": {
    "colab_type": "text",
    "id": "hMjCrvgNV1hk"
   },
   "source": [
    "**Деревом** называется связный граф из $n-1$ рёбер и $n$ вершин. Дерево называется **корневым**, если оно ориентированно, и из какой-то (единственной) вершины можно попасть во все остальные — такая вершина называется корнем."
   ]
  },
  {
   "cell_type": "markdown",
   "metadata": {
    "colab_type": "text",
    "id": "f5DwvDdiV1hl"
   },
   "source": [
    "Примеры корневых деревьев: наследование классов в языках программирования (если множественное наследование запрещено), иерархия в какой-нибудь компании."
   ]
  },
  {
   "cell_type": "markdown",
   "metadata": {
    "colab_type": "text",
    "id": "YZ97cZh6V1hm"
   },
   "source": [
    "У каждой вершины, кроме корня, есть ровно один родитель, поэтому очень часто дерево представляют в виде списка родителей для каждой вершины."
   ]
  },
  {
   "cell_type": "markdown",
   "metadata": {
    "colab_type": "text",
    "id": "3wh6QJAHV1hm"
   },
   "source": [
    "Для очень многих задач на деревья требуется находить наименьшего общего предка. Эта задача называется LCA (англ. Least Common Ancestor). Мы рассмотрим два способа, как это делать в онлайн."
   ]
  },
  {
   "cell_type": "markdown",
   "metadata": {
    "colab_type": "text",
    "id": "cB83XKiDV1hn"
   },
   "source": [
    "Тривиально (за линию на каждый запрос) это делается так:"
   ]
  },
  {
   "cell_type": "code",
   "execution_count": 0,
   "metadata": {
    "colab": {},
    "colab_type": "code",
    "id": "d_1pA7F5V1ho"
   },
   "outputs": [],
   "source": [
    "int p[maxn];\n",
    "vector<int> g[maxn];\n",
    "int tin[maxn], tout[maxn];\n",
    "int t = 0;\n",
    "\n",
    "void dfs (int v) {\n",
    "    tin[v] = t++;\n",
    "    for (int u : g[v])\n",
    "        dfs(u);\n",
    "    tout[v] = t++;\n",
    "}\n",
    "\n",
    "bool ancestor (int v, int u) {\n",
    "    return tin[v] <= tin[u] && tin[u] <= tout[v];\n",
    "}\n",
    "\n",
    "int lca (int a, int b) {\n",
    "    while (!ancestor(a, b))\n",
    "        a = p[a];\n",
    "    return a;\n",
    "}"
   ]
  },
  {
   "cell_type": "markdown",
   "metadata": {
    "colab_type": "text",
    "id": "bW1acak_V1hr"
   },
   "source": [
    "# Двоичные подъемы"
   ]
  },
  {
   "cell_type": "code",
   "execution_count": 0,
   "metadata": {
    "colab": {},
    "colab_type": "code",
    "id": "cFYU1Y5qV1hs"
   },
   "outputs": [],
   "source": [
    "// помимо массивов и функций из предыдущего примера\n",
    "int up[maxn][logn];\n",
    "\n",
    "void dfs (int v) {\n",
    "    for (int l = 1; l < logn; l++)\n",
    "        up[v][l] = up[up[v][l-1]][l-1];\n",
    "    tin[v] = t++;\n",
    "    for (int u : g[v]) {\n",
    "        up[u][0] = v;\n",
    "        dfs(u);\n",
    "    }\n",
    "    tout[v] = t++;\n",
    "}\n",
    "\n",
    "int lca (int v, int u) {\n",
    "    if (a(v, u)) return v;\n",
    "    if (a(u, v)) return u;\n",
    "    for (int l = logn-1; l >= 0; l--)\n",
    "        if (!ancestor(up[v][l], u))\n",
    "            v = up[v][l];\n",
    "    return up[v][0];\n",
    "}"
   ]
  },
  {
   "cell_type": "markdown",
   "metadata": {
    "colab_type": "text",
    "id": "PXpE5vHfV1hu"
   },
   "source": [
    "# Сведение к RMQ"
   ]
  },
  {
   "cell_type": "markdown",
   "metadata": {
    "colab_type": "text",
    "id": "6oWibNXhV1hv"
   },
   "source": [
    "Другая идея — это пройтись dfs-ом и выписать два массива: глубины вершин и их номера."
   ]
  },
  {
   "cell_type": "markdown",
   "metadata": {
    "colab_type": "text",
    "id": "p-joGqDwV1hv"
   },
   "source": [
    "Теперь, у нас есть запрос: найти LCA от вершин $a$ и $b$. Пусть мы посетили $a$ первой, тогда посмотрим на момент, когда мы из нее вышли и на момент, когда впервые вошли в $b$. Где-то по пути мы должны были прийти в наименьший общий предок, потому что путь от $a$ до $b$ в дереве единственный. Где-то на этом массиве выписанных глубин и будет LCA — на той позиции, где глубина минимальная. "
   ]
  },
  {
   "cell_type": "markdown",
   "metadata": {
    "colab_type": "text",
    "id": "pNvXryC9V1hw"
   },
   "source": [
    "Получается, что можно свести задачу к RMQ на массиве глубин — для этого можно задействавать какую-нибудь структуру, например ДО."
   ]
  },
  {
   "cell_type": "markdown",
   "metadata": {
    "colab_type": "text",
    "id": "b7R7XMv4V1hy"
   },
   "source": [
    "# Разреженная таблица"
   ]
  },
  {
   "cell_type": "markdown",
   "metadata": {
    "colab_type": "text",
    "id": "JZk0At31V1hy"
   },
   "source": [
    "Помимо, ДО есть более крутая структура, позволяющая отвечать на запрос минимума за O(1). Подробнее в соответствующей статье."
   ]
  },
  {
   "cell_type": "code",
   "execution_count": 0,
   "metadata": {
    "colab": {},
    "colab_type": "code",
    "id": "Vxj8L84mV1h0"
   },
   "outputs": [],
   "source": []
  },
  {
   "cell_type": "markdown",
   "metadata": {
    "colab_type": "text",
    "id": "zJB3KTY2V1h5"
   },
   "source": [
    "Примечание и интересное размышление: LCA сводится к RMQ, но не наоборот. На самом деле, существует алгоритм, и даже несколько, которые решают LCA быстрее, чем за $O(\\log n)$ на запрос. Но из этого не следует, что можно с такой же асимптотикой решать RMQ. Подробнее смотрите алгоритм Фараха-Колтона-Бендера. У него линейная асимптотика, но очень плохая константа, поэтому на контестах писать его не надо. Это так, для общего образования."
   ]
  }
 ],
 "metadata": {
  "colab": {
   "name": "10_lca.ipynb",
   "provenance": [],
   "version": "0.3.2"
  },
  "kernelspec": {
   "display_name": "C++17",
   "language": "C++",
   "name": "cling-cpp17"
  }
 },
 "nbformat": 4,
 "nbformat_minor": 1
}
