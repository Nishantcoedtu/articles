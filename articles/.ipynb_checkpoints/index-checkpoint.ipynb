{
 "cells": [
  {
   "cell_type": "markdown",
   "metadata": {},
   "source": [
    "# Алгоритмика\n",
    "\n",
    "Стараюсь писать только про то, чего нет в интернете в нормальном виде. Либо про то, что мне очень сложно давалось, когда я был в школе.\n",
    "\n",
    "Более-менее готово:\n",
    "\n",
    "* [Дерево отрезков](http://sereja.me/a/segtree)\n",
    "* [Декартово дерево](http://sereja.me/a/treap)\n",
    "* [Полиномиальное хэширование](http://sereja.me/a/hashing)\n",
    "* [Центроидная декомпозиция](http://sereja.me/a/centroid)\n",
    "* [Матроиды](http://sereja.me/a/matroid)\n",
    "* [Ро-алгоритм Полларда](http://sereja.me/a/pollard)\n",
    "* [Sparse table](http://sereja.me/a/sparse-table)\n",
    "* [Поток минимальной стоимости](http://sereja.me/a/mincost-maxflow)\n",
    "* [Битовое сжатие](http://sereja.me/a/bitset)\n",
    "* [Классные задачки](http://sereja.me/a/bayans) (решения начну писать, когда разберусь, как делать спойлеры)\n",
    "\n",
    "Не очень готово:\n",
    "\n",
    "* [Геометрия](http://sereja.me/a/geometry)\n",
    "* [Оптимизации ДП](http://sereja.me/a/dp_optimizations)\n",
    "* [Стресс-тестирование](http://sereja.me/a/stress-test)\n",
    "* [Дерево Фенвика](http://sereja.me/a/fenwick)\n",
    "* [Остовные деревья](http://sereja.me/a/mst)\n",
    "* [Обратное по модулю](http://sereja.me/a/reciprocal)\n",
    "* [Метод отжига](http://sereja.me/a/annealing)\n",
    "\n",
    "Вообще не готово:\n",
    "* [Линейная алгебра](http://sereja.me/a/linalg)\n",
    "* [Теорвер](http://sereja.me/a/probability)\n",
    "* Выпуклые оболочки\n",
    "* Разделяй-и-властвуй\n",
    "* Теория информации\n",
    "\n",
    "Спасибо Косте Амеличеву, Глебу Лобанову, Ване Клигунову, Диме Дубровину, Маше Тряпицыной, Саше Мамаеву, Андрею Гаркавому, Тёме Рябову, Андрею Чулкову, Максу Деб Натху и много кому ещё за фидбэк и указания на ошибки и неточности."
   ]
  }
 ],
 "metadata": {
  "kernelspec": {
   "display_name": "Python 3",
   "language": "python",
   "name": "python3"
  },
  "language_info": {
   "codemirror_mode": {
    "name": "ipython",
    "version": 3
   },
   "file_extension": ".py",
   "mimetype": "text/x-python",
   "name": "python",
   "nbconvert_exporter": "python",
   "pygments_lexer": "ipython3",
   "version": "3.6.5"
  }
 },
 "nbformat": 4,
 "nbformat_minor": 2
}
