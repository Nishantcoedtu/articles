{
 "cells": [
  {
   "cell_type": "markdown",
   "metadata": {},
   "source": [
    "# Алгоритмика\n",
    "\n",
    "Здесь (временно) живут конспекты занятий, которые я последние полтора года готовил для разных курсов и школ — в основном, для второго курса [Tinkoff Generation](http://algocode.ru/b/).\n",
    "\n",
    "Более-менее готово:\n",
    "\n",
    "* [Дерево отрезков](http://sereja.me/a/segtree): на указателях, динамическое, пересистентное\n",
    "* [Декартово дерево](http://sereja.me/a/treap): явное, неявное, персистентое\n",
    "* [Полиномиальное хэширование](http://sereja.me/a/hashing) в задачах на строки\n",
    "* [Центроидная декомпозиция](http://sereja.me/a/centroid)\n",
    "* [Heavy-light декомпозиция](http://sereja.me/a/hld)\n",
    "* [Паросочетания](http://sereja.me/a/matching): алгоритм Куна, покрытие DAG-а, лемма Холла\n",
    "* [Дерево Фенвика](http://sereja.me/a/fenwick): устройство, многомерное дерево, бинпоиск по дереву\n",
    "* [Матроиды](http://sereja.me/a/matroid): алгоритм Радо-Эдмондса, расписания, паросочетания, линейная независимость\n",
    "* [Ро-алгоритм Полларда](http://sereja.me/a/pollard)\n",
    "* [Sparse table](http://sereja.me/a/sparse-table)\n",
    "* [Поток минимальной стоимости](http://sereja.me/a/mincost-maxflow): критерий оптимальности, потенциалы Джонсона\n",
    "* [Битовое сжатие](http://sereja.me/a/bitset): битсет, нахождение цикла длины 3, перемножение матриц, метод Гаусса\n",
    "* [Наименьший общий предок](http://sereja.me/a/lca): свойства tin и tout, двоичные подъемы, сведение к RMQ, алгоритм Фараха-Колтона и Бендера\n",
    "* [Классные задачки](http://sereja.me/a/bayans): пока что без решений\n",
    "\n",
    "Не очень готово:\n",
    "\n",
    "* [Поиск строки в строке](http://sereja.me/a/strings): префикс-функция, z-функция\n",
    "* [Суффиксный массив](http://sereja.me/a/suffix-array)\n",
    "* [Геометрия](http://sereja.me/a/geometry): скалярное и векторное произведение, пересечение прямых, классы в C++\n",
    "* [Оптимизации ДП](http://sereja.me/a/dp-optimizations): Кнут, разделяй-и-властвуй, Convex Hull Trick\n",
    "* [Остовные деревья](http://sereja.me/a/mst): алгоритм Прима и Крускала\n",
    "* [Обратное по модулю](http://sereja.me/a/reciprocal)\n",
    "* [Метод отжига](http://sereja.me/a/annealing)\n",
    "* [Стресс-тестирование](http://sereja.me/a/stress-test)\n",
    "* [Бор](http://sereja.me/a/trie)\n",
    "* [Теория игр](http://sereja.me/a/games)\n",
    "* [Выпуклые оболочки](http://sereja.me/a/convex-hulls)\n",
    "* [Алгоритм Карацубы](http://sereja.me/a/karatsuba): введение в разделяй-и-властвуй, мастер-теорема\n",
    "* [Линейная алгебра](http://sereja.me/a/linalg): линейные операторы, матрицы, применения к динамике, метод Гаусса\n",
    "* [CUDA](http://sereja.me/a/cuda): программирование на GPU (на английском)\n",
    "\n",
    "Вообще не готово:\n",
    "* [Ахо-Корасик](http://sereja.me/a/aho-corasick)\n",
    "* [Теорвер](http://sereja.me/a/probability)\n",
    "* Корневая декомпозиция\n",
    "* Теория информации\n",
    "* Функции потерь в машинном обучении\n",
    "\n",
    "Спасибо Косте Амеличеву, Глебу Лобанову, Ване Клигунову, Диме Дубровину, Маше Тряпицыной, Шелхонову Булату, Саше Мамаеву, Андрею Гаркавому, Тёме Рябову, Андрею Чулкову, Максу Деб Натху и много кому ещё за фидбэк и указания на ошибки и неточности."
   ]
  }
 ],
 "metadata": {
  "kernelspec": {
   "display_name": "Python 3",
   "language": "python",
   "name": "python3"
  },
  "language_info": {
   "codemirror_mode": {
    "name": "ipython",
    "version": 3
   },
   "file_extension": ".py",
   "mimetype": "text/x-python",
   "name": "python",
   "nbconvert_exporter": "python",
   "pygments_lexer": "ipython3",
   "version": "3.7.3"
  }
 },
 "nbformat": 4,
 "nbformat_minor": 2
}
