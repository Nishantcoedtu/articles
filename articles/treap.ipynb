{
 "cells": [
  {
   "cell_type": "markdown",
   "metadata": {},
   "source": [
    "# Декартово дерево"
   ]
  },
  {
   "cell_type": "markdown",
   "metadata": {},
   "source": [
    "Занятия на ДД идут сразу после занятий по ДО и частично на них ссылаются. Прочитайте сначала конспект про ДО."
   ]
  },
  {
   "cell_type": "markdown",
   "metadata": {},
   "source": [
    "Рене Декарт — великий французский математик и философ XVII века. Рене Декарт не является создателем декартова дерева, но он является создателем, в частности, декартовой системы координат, которую мы все знаем и любим. Нанесем на неё набор точек. $x$ назовем ключем, а $y$ приоритетом."
   ]
  },
  {
   "cell_type": "markdown",
   "metadata": {},
   "source": [
    "<картинка>"
   ]
  },
  {
   "cell_type": "markdown",
   "metadata": {},
   "source": [
    "Если все $x$ и $y$ разные, то можно однозначно нарисовать в нем дерево: выберем в качестве корня самое высокое, разделим остальные точки на две части, построем деревья в них, объединим в одно большое."
   ]
  },
  {
   "cell_type": "markdown",
   "metadata": {},
   "source": [
    "**Высота дерева**. Высота в среднем логарифмическая. Любознательные могут ознакомиться с типа доказательством, но это не обязательно.\n",
    "\n",
    "Глубина вершины — это количество родителей (прим. К. О.). Введем *индикатор*. $E[h] = \\sum \\frac{1}{k} \\approx \\log n $."
   ]
  },
  {
   "cell_type": "markdown",
   "metadata": {},
   "source": [
    "Если не объявлять указатели, в них будет записан 0. Внутри реализаций мы будем относиться к нулевому указателю как к пустому дереву."
   ]
  },
  {
   "cell_type": "code",
   "execution_count": null,
   "metadata": {
    "collapsed": true
   },
   "outputs": [],
   "source": [
    "struct Node {\n",
    "    int key, prior, size = 1;\n",
    "    Node *l = 0, *r = 0;\n",
    "    Node (int _key) { key = _key, prior = rand(); }\n",
    "};"
   ]
  },
  {
   "cell_type": "markdown",
   "metadata": {},
   "source": [
    "Для обработки операций мы поступим хитро: честно напишем всего две из них, а потом все будем выражать с помощью них."
   ]
  },
  {
   "cell_type": "markdown",
   "metadata": {},
   "source": [
    "**Merge**. Принимает два дерева, про которые известно, что в левом все вершины имеют меньший ключ, чем все в правом. Их нужно объединить так, чтобы ничего не сломалось."
   ]
  },
  {
   "cell_type": "code",
   "execution_count": null,
   "metadata": {
    "collapsed": true
   },
   "outputs": [],
   "source": [
    "Node* merge (Node *l, Node *r) {\n",
    "    if (!l) return r;\n",
    "    if (!r) return l;\n",
    "    if (l->prior > r->prior) {\n",
    "        l->r = merge(l->r, r);\n",
    "        upd(l);\n",
    "        return l;\n",
    "    }\n",
    "    else {\n",
    "        r->l = merge(l, r->l);\n",
    "        upd(r);\n",
    "        return r;\n",
    "    }\n",
    "}"
   ]
  },
  {
   "cell_type": "markdown",
   "metadata": {},
   "source": [
    "**Split**. Принимает дерево и ключ, по которому его нужно разделить на два."
   ]
  },
  {
   "cell_type": "code",
   "execution_count": null,
   "metadata": {
    "collapsed": true
   },
   "outputs": [],
   "source": [
    "typedef pair<Node*, Node*> Pair;\n",
    "\n",
    "Pair split (Node *p, int x) {\n",
    "    if (!p) return {0, 0};\n",
    "    if (size(p->l) + 1 <= x) {\n",
    "        Pair q = split(p->r, x-size(p->l)-1);\n",
    "        p->r = q.first;\n",
    "        upd(p);\n",
    "        return {p, q.second};\n",
    "    }\n",
    "    else {\n",
    "        Pair q = split(p->l, x);\n",
    "        p->l = q.second;\n",
    "        upd(p);\n",
    "        return {q.first, p};\n",
    "    }\n",
    "}"
   ]
  },
  {
   "cell_type": "markdown",
   "metadata": {},
   "source": [
    "Вот так будет выглядеть код, добавляющий $x$ в сет."
   ]
  },
  {
   "cell_type": "code",
   "execution_count": null,
   "metadata": {
    "collapsed": true
   },
   "outputs": [],
   "source": [
    "Node *root = 0;\n",
    "\n",
    "void insert (int x) {\n",
    "    Pair q = split(root, x);\n",
    "    Node *t = new Node(x);\n",
    "    root = merge(q.first, merge(t, q.second));\n",
    "}"
   ]
  },
  {
   "cell_type": "markdown",
   "metadata": {},
   "source": [
    "# Неявный ключ"
   ]
  },
  {
   "cell_type": "markdown",
   "metadata": {},
   "source": [
    "Очень часто требуется обрабатывать запросы, не привязанные к ключу. Например, «найди $k$-ый элемент»."
   ]
  },
  {
   "cell_type": "markdown",
   "metadata": {},
   "source": [
    "Можно пересчитывать ключ на ходу. Для этого достаточно поддерживать размеры поддеревьев у каждой вершины."
   ]
  },
  {
   "cell_type": "markdown",
   "metadata": {},
   "source": [
    "Конечный код такой:"
   ]
  },
  {
   "cell_type": "code",
   "execution_count": null,
   "metadata": {
    "collapsed": true
   },
   "outputs": [],
   "source": [
    "struct Node {\n",
    "    int key, prior, size = 1;\n",
    "    Node *l = 0, *r = 0;\n",
    "    Node (int _key) { key = _key, prior = rand(); }\n",
    "};\n",
    "\n",
    "int size (Node *v) { return v ? v->size : 0; }\n",
    "\n",
    "void upd (Node *v) { v->size = 1 + size(v->l) + size(v->r); }\n",
    "\n",
    "Node* merge (Node *l, Node *r) {\n",
    "    if (!l) return r;\n",
    "    if (!r) return l;\n",
    "    if (l->prior > r->prior) {\n",
    "        l->r = merge(l->r, r);\n",
    "        upd(l);\n",
    "        return l;\n",
    "    }\n",
    "    else {\n",
    "        r->l = merge(l, r->l);\n",
    "        upd(r);\n",
    "        return r;\n",
    "    }\n",
    "}\n",
    "\n",
    "typedef pair<Node*, Node*> Pair;\n",
    "\n",
    "Pair split (Node *p, int x) {\n",
    "    if (!p) return {0, 0};\n",
    "    if (size(p->l) + 1 <= x) {\n",
    "        Pair q = split(p->r, x-size(p->l)-1);\n",
    "        p->r = q.first;\n",
    "        upd(p);\n",
    "        return {p, q.second};\n",
    "    }\n",
    "    else {\n",
    "        Pair q = split(p->l, x);\n",
    "        p->l = q.second;\n",
    "        upd(p);\n",
    "        return {q.first, p};\n",
    "    }\n",
    "}\n",
    "\n",
    "Node *root = 0;\n",
    "\n",
    "void insert (int x) {\n",
    "    Pair q = split(root, x);\n",
    "    Node *t = new Node(x);\n",
    "    root = merge(q.first, merge(t, q.second));\n",
    "}"
   ]
  },
  {
   "cell_type": "markdown",
   "metadata": {},
   "source": [
    "# Персистентность"
   ]
  },
  {
   "cell_type": "markdown",
   "metadata": {},
   "source": [
    "Персистентность можно реализовать так же, как и с деревом отрезков — просто каждый раз перед тем, как что-то сделать с вершиной, создать её копию и что-то делать уже с ней."
   ]
  },
  {
   "cell_type": "code",
   "execution_count": null,
   "metadata": {
    "collapsed": true
   },
   "outputs": [],
   "source": []
  },
  {
   "cell_type": "markdown",
   "metadata": {},
   "source": [
    "Применения у персистентности в ДД даже более интересные, чем в ДО. Например, можно строку представлять в виде ДД и делать быстрые операции копирования и вставки подстрок. Если прикрутить хэши, то можно делать ещё и сравнения."
   ]
  }
 ],
 "metadata": {
  "kernelspec": {
   "display_name": "C++17",
   "language": "C++",
   "name": "cling-cpp17"
  },
  "language_info": {
   "codemirror_mode": "c++",
   "file_extension": ".c++",
   "mimetype": "text/x-c++src",
   "name": "c++"
  }
 },
 "nbformat": 4,
 "nbformat_minor": 2
}
