{
 "cells": [
  {
   "cell_type": "markdown",
   "metadata": {},
   "source": [
    "## Моё\n",
    "\n",
    "Стараюсь писать только про то, чего нет в интернете в нормальном виде, либо про то, что мне очень сложно давалось, когда я был школьником.\n",
    "\n",
    "* [Битовое сжатие](http://sereja.me/a/bitset)\n",
    "* [Центроидная декомпозиция](http://sereja.me/a/centroid)\n",
    "* [Матроиды](http://sereja.me/a/matroid)\n",
    "* [Ро-алгоритм Полларда](http://sereja.me/a/pollard)\n",
    "* [Sparse table](http://sereja.me/a/sparse-table)\n",
    "* [Поток минимальной стоимости](http://sereja.me/a/mincost-maxflow)\n",
    "* [Стресс-тестирование](http://sereja.me/a/stress-test) (~95%: баг с генерацией рандома)\n",
    "* [Геометрия](http://sereja.me/a/geometry) (~90%)\n",
    "* [Оптимизации ДП](http://sereja.me/a/dp_optimizations) (~80%)\n",
    "* [Дерево Фенвика](http://sereja.me/a/fenwick) (~75%)\n",
    "* [Остовные деревья](http://sereja.me/a/mst) (~70%)\n",
    "* [Обратное по модулю](http://sereja.me/a/reciprocal) (~60%)\n",
    "* [Метод отжига](http://sereja.me/a/annealing) (~60%)\n",
    "* [Линейная алгебра](http://sereja.me/a/linalg) (~50%)\n",
    "* [Теорвер](http://sereja.me/a/probability) (~20%)\n",
    "* [Дерево отрезков](http://sereja.me/a/segtree) (~0%)\n",
    "* [Декартово дерево](http://sereja.me/a/treap) (~0%)\n",
    "* [Полиномиальное хэширование](http://sereja.me/a/hashing) (~0%)\n",
    "* [Классные задачки](http://sereja.me/a/bayans) (решения начну писать, когда разберусь, как делать спойлеры)"
   ]
  },
  {
   "cell_type": "markdown",
   "metadata": {},
   "source": [
    "## Струкутры данных\n",
    "\n",
    "* [Дерево отрезков](http://e-maxx.ru/algo/segment_tree)\n",
    "* [Итеративное дерево отрезков](http://codeforces.com/blog/entry/18051)\n",
    "* [Система непересекающихся множеств](http://e-maxx.ru/algo/dsu)\n",
    "* [Разреженная таблица](http://sereja.me/a/sparse-table)\n",
    "* [Дерево Фенвика](http://sereja.me/a/fenwick)\n",
    "* [Декартово дерево](http://e-maxx.ru/algo/treap)\n",
    "* [Применения битсета](http://sereja.me/a/bitset)"
   ]
  },
  {
   "cell_type": "markdown",
   "metadata": {},
   "source": [
    "## Алгебра\n",
    "\n",
    "* [Бинарное возведение в степень](http://e-maxx.ru/algo/binary_pow)\n",
    "* [Быстрое преобразование Фурье](https://www.youtube.com/watch?v=iTMn0Kt18tg)"
   ]
  },
  {
   "cell_type": "markdown",
   "metadata": {},
   "source": [
    "## Графы"
   ]
  },
  {
   "cell_type": "markdown",
   "metadata": {},
   "source": [
    "### Эйлеровы обходы\n",
    "\n",
    "* [Топологическая сортировка](http://e-maxx.ru/algo/topological_sort)\n",
    "* [Поиск мостов](http://e-maxx.ru/algo/bridge_searching)\n",
    "* [Эйлеров цикл](https://neerc.ifmo.ru/wiki/index.php?title=%D0%90%D0%BB%D0%B3%D0%BE%D1%80%D0%B8%D1%82%D0%BC_%D0%BF%D0%BE%D1%81%D1%82%D1%80%D0%BE%D0%B5%D0%BD%D0%B8%D1%8F_%D0%AD%D0%B9%D0%BB%D0%B5%D1%80%D0%BE%D0%B2%D0%B0_%D1%86%D0%B8%D0%BA%D0%BB%D0%B0)\n",
    "* [Конденсация графа](http://e-maxx.ru/algo/strong_connected_components)\n",
    "* [2-SAT](http://e-maxx.ru/algo/2_sat)"
   ]
  },
  {
   "cell_type": "markdown",
   "metadata": {},
   "source": [
    "### Кратчайшие пути\n",
    "\n",
    "* [Алгоритм Дейкстры](http://e-maxx.ru/algo/dijkstra_sparse)\n",
    "* [Алгоритм Форда-Беллмана](http://e-maxx.ru/algo/ford_bellman)"
   ]
  },
  {
   "cell_type": "markdown",
   "metadata": {},
   "source": [
    "### Остовные деревья\n",
    "\n",
    "* [Алгоритм Прима](http://e-maxx.ru/algo/mst_prim)\n",
    "* [Алгоритм Крускала](http://e-maxx.ru/algo/mst_kruskal_with_dsu)"
   ]
  },
  {
   "cell_type": "markdown",
   "metadata": {},
   "source": [
    "### Паросочетания и потоки\n",
    "\n",
    "* [Алгоритм Куна](http://e-maxx.ru/algo/kuhn_matching)\n",
    "* [Максимальный поток минимального веса](https://www.topcoder.com/community/data-science/data-science-tutorials/minimum-cost-flow-part-one-key-concepts/)"
   ]
  },
  {
   "cell_type": "markdown",
   "metadata": {},
   "source": [
    "### Структуры данных на деревьях\n",
    "\n",
    "* [Дерево Фенвика](http://sereja.me/a/fenwick)\n",
    "* [Центроидная декомпозиция](http://sereja.me/a/centroid)"
   ]
  },
  {
   "cell_type": "markdown",
   "metadata": {},
   "source": [
    "## Комбинаторика\n",
    "\n",
    "* [Биномиальные коэффициенты](http://e-maxx.ru/algo/binomial_coeff)\n",
    "* [Принцип включений-исключений](http://e-maxx.ru/algo/inclusion_exclusion_principle)\n",
    "* [Лемма Бернсайда](http://e-maxx.ru/algo/burnside_polya)"
   ]
  },
  {
   "cell_type": "markdown",
   "metadata": {},
   "source": [
    "## Теория чисел\n",
    "\n",
    "* [Алгоритм Евклида](http://e-maxx.ru/algo/euclid_algorithm)\n",
    "* [Парадокс дней рождений и ро-алгоритм Полларда](http://sereja.me/a/pollard)\n",
    "* [Нахождение обратного элемента по модулю](http://e-maxx.ru/algo/reverse_element)"
   ]
  },
  {
   "cell_type": "markdown",
   "metadata": {},
   "source": [
    "## Динамическое программирование\n",
    "\n",
    "* [Наибольшая возрастающая последовательность](http://e-maxx.ru/algo/longest_increasing_subseq_log)\n",
    "* [Оптимизации динамики](http://acm.math.spbu.ru/~sk1/mm/lections/zksh2017-dp/conspect.pdf)  (Копелиович)"
   ]
  },
  {
   "cell_type": "markdown",
   "metadata": {},
   "source": [
    "## Теория игр\n",
    "\n",
    "* [Игры на графах](http://informatics.mccme.ru/file.php/1563/games.pdf) (Станкевич)"
   ]
  },
  {
   "cell_type": "markdown",
   "metadata": {},
   "source": [
    "## Геометрия\n",
    "\n",
    "* [Вводная статья в вычислительную геометрию](https://habrahabr.ru/post/147691/)\n",
    "* [Уравнение прямой по двум точкам](http://e-maxx.ru/algo/segment_to_line)\n",
    "* [Построение выпуклой оболочки](http://e-maxx.ru/algo/convex_hull_graham)\n",
    "* [Геометрическая инверсия](http://e-maxx.ru/algo/geometric_inversion)"
   ]
  },
  {
   "cell_type": "markdown",
   "metadata": {},
   "source": [
    "## Строки\n",
    "\n",
    "* [Полиномиальное хеширование](http://e-maxx.ru/algo/string_hashes)\n",
    "* [Z-функция](http://e-maxx.ru/algo/z_function)\n",
    "* [Алгоритм Ахо-Корасик](http://e-maxx.ru/algo/aho_corasick)\n",
    "* [Суффиксный автомат](http://e-maxx.ru/algo/suffix_automata)"
   ]
  },
  {
   "cell_type": "markdown",
   "metadata": {},
   "source": [
    "## Аппроксимации\n",
    "\n",
    "* [Метод Ньютона](http://e-maxx.ru/algo/roots_newton)\n",
    "* [Метод отжига](http://sereja.me/a/annealing.html)"
   ]
  },
  {
   "cell_type": "markdown",
   "metadata": {},
   "source": [
    "## Разное / Алгоритмы\n",
    "\n",
    "* [$k$-ая порядковая статистика за $O(n)$](http://e-maxx.ru/algo/kth_order_statistics)\n",
    "* [Тест против хешей по модулю $2^{64}$](http://codeforces.com/blog/entry/4898)"
   ]
  },
  {
   "cell_type": "markdown",
   "metadata": {},
   "source": [
    "## Разное / Технические знания\n",
    "\n",
    "* [Стресс-тестирование](http://sereja.me/a/stress-test.html)\n",
    "* [Крутые вещи в плюсах](http://en.cppreference.com/w/cpp/algorithm)\n",
    "* [Список задач по всем темам](http://codeforces.com/blog/entry/55274)"
   ]
  }
 ],
 "metadata": {
  "kernelspec": {
   "display_name": "Python 3",
   "language": "python",
   "name": "python3"
  },
  "language_info": {
   "codemirror_mode": {
    "name": "ipython",
    "version": 3
   },
   "file_extension": ".py",
   "mimetype": "text/x-python",
   "name": "python",
   "nbconvert_exporter": "python",
   "pygments_lexer": "ipython3",
   "version": "3.5.2"
  }
 },
 "nbformat": 4,
 "nbformat_minor": 2
}
