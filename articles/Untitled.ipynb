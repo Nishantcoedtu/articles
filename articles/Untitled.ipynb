{
 "cells": [
  {
   "cell_type": "markdown",
   "metadata": {},
   "source": []
  },
  {
   "cell_type": "code",
   "execution_count": null,
   "metadata": {},
   "outputs": [],
   "source": [
    "vector<int> suffix_array (vector<int> s) {\n",
    "    s.push_back(0);\n",
    "    int n = (int) s.size();\n",
    "    int cnt = 0, cls = 0;\n",
    "    vector<int> c(n), p(n);\n",
    "    map< int, vector<int> > t;\n",
    "    for (int i = 0; i < n; i++)\n",
    "        t[s[i]].push_back(i);\n",
    "    for (auto x : t) {\n",
    "        for (int u : x.second)\n",
    "            c[u] = cls, p[cnt++] = u;\n",
    "        cls++;\n",
    "    }\n",
    "    for (int l = 1; cls < n; l++) {\n",
    "        vector< vector<int> > a(cls);\n",
    "        vector<int> _c(n);\n",
    "        int d = (1<<l)/2;\n",
    "        int _cls = cnt = 0;\n",
    "        for (int i = 0; i < n; i++) {\n",
    "            int k = (p[i]-d+n)%n;\n",
    "            a[c[k]].push_back(k);\n",
    "        }\n",
    "        for (int i = 0; i < cls; i++) {\n",
    "            for (size_t j = 0; j < a[i].size(); j++) {\n",
    "                if (j == 0 || c[(a[i][j]+d)%n] != c[(a[i][j-1]+d)%n]) _cls++;\n",
    "                _c[a[i][j]] = _cls-1;\n",
    "                p[cnt++] = a[i][j];\n",
    "            }\n",
    "        }\n",
    "        c = _c;\n",
    "        cls = _cls;\n",
    "    }\n",
    "    return vector<int>(p.begin()+1, p.end());\n",
    "}"
   ]
  }
 ],
 "metadata": {
  "kernelspec": {
   "display_name": "C++17",
   "language": "C++17",
   "name": "xeus-cling-cpp17"
  },
  "language_info": {
   "codemirror_mode": "text/x-c++src",
   "file_extension": ".cpp",
   "mimetype": "text/x-c++src",
   "name": "c++",
   "version": "-std=c++17"
  }
 },
 "nbformat": 4,
 "nbformat_minor": 2
}
