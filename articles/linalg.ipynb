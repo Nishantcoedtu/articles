{
 "cells": [
  {
   "cell_type": "markdown",
   "metadata": {},
   "source": [
    "# Линейная алгебра в олимпиадном программировании"
   ]
  },
  {
   "cell_type": "markdown",
   "metadata": {},
   "source": [
    "Матрицы выглядят так:\n",
    "\n",
    "$$\n",
    "\\begin{pmatrix}\n",
    "a_{11} & a_{12} & a_{13} \\\\\n",
    "a_{21} & a_{22} & a_{23} \\\\\n",
    "a_{31} & a_{32} & a_{33} \\\\\n",
    "\\end{pmatrix}\n",
    "$$"
   ]
  },
  {
   "cell_type": "markdown",
   "metadata": {},
   "source": [
    "Самая важная для нас операция -- умножение. У матриц оно определено совсем не так, как у чисел. Если $C = AB$, то:\n",
    "\n",
    "$$ c_{ij} = \\sum_{k=1}^n a_{ik} b_{kj} $$ "
   ]
  },
  {
   "cell_type": "markdown",
   "metadata": {},
   "source": [
    "Умножение коммутативно, а значит ничто не мешает нам обобщить бинарное возведение в степень для скаляров (чисел) на матрицы."
   ]
  },
  {
   "cell_type": "markdown",
   "metadata": {},
   "source": [
    "## Фибоначчи"
   ]
  },
  {
   "cell_type": "markdown",
   "metadata": {},
   "source": [
    "$$\n",
    "\\begin{pmatrix}\n",
    "f_{n+1} \\\\\n",
    "f_{n+2} \\\\\n",
    "\\end{pmatrix}\n",
    "=\n",
    "\\begin{pmatrix}\n",
    "0+f_{n+1} \\\\\n",
    "f_{n}+f_{n+1} \\\\\n",
    "\\end{pmatrix}\n",
    "=\n",
    "\\begin{pmatrix}\n",
    "0 & 1 \\\\\n",
    "1 & 1 \\\\\n",
    "\\end{pmatrix}\n",
    "\\begin{pmatrix}\n",
    "f_{n} \\\\\n",
    "f_{n+1} \\\\\n",
    "\\end{pmatrix}\n",
    "$$"
   ]
  },
  {
   "cell_type": "markdown",
   "metadata": {},
   "source": [
    "По сути, это тоже линейная рекуррента и в каком-то смысле динамика."
   ]
  },
  {
   "cell_type": "markdown",
   "metadata": {},
   "source": [
    "У него есть следующие свойства:\n",
    "* ABC = (AB)C = A(BC)"
   ]
  },
  {
   "cell_type": "markdown",
   "metadata": {},
   "source": [
    "## Матрица смежности\n",
    "\n",
    "Вам скорее всего когда-то рассказали про матрицы смежности, но вы ими скоро перестали пользоваться, став хранить граф на списках смежности, потому что матрицы заменяются чем-то более эффективным. На самом деле, применение есть: перемножение матриц смежности имеет комбинаторный смысл.\n",
    "\n",
    "(см. [Битсет](http://sereja.me/a/bitset#%D0%9F%D0%B5%D1%80%D0%B5%D0%BC%D0%BD%D0%BE%D0%B6%D0%B5%D0%BD%D0%B8%D0%B5-%D0%BC%D0%B0%D1%82%D1%80%D0%B8%D1%86))"
   ]
  },
  {
   "cell_type": "markdown",
   "metadata": {},
   "source": [
    "## *Собственные вектора и красивые формулы\n",
    "\n",
    "Очень часто у матриц есть *собственные вектора* -- те, которые не меняют направление.\n",
    "\n",
    "$ Av = k v $, где $k \\neq 0$.\n",
    "\n",
    "$ Av - kv = (A-kI)v = 0 $. Это означает\n",
    "\n",
    "Вообще, собственные вектора в линейной алгебре имеют почти такое же значение, как простые числа в арифметике."
   ]
  },
  {
   "cell_type": "code",
   "execution_count": null,
   "metadata": {
    "collapsed": true
   },
   "outputs": [],
   "source": [
    "const int maxn;\n",
    "\n",
    "multiply"
   ]
  },
  {
   "cell_type": "code",
   "execution_count": null,
   "metadata": {
    "collapsed": true
   },
   "outputs": [],
   "source": [
    "struct matrix {\n",
    "    int n, m;\n",
    "    int t[];\n",
    "    matrix (int _n, int _m) {\n",
    "        n = _n, m = _m;\n",
    "        t = new int(n*m);\n",
    "        memset(t, 0, sizeof t);\n",
    "    }\n",
    "    int[] operator[] (int k) {\n",
    "        return t[k*m];\n",
    "    }\n",
    "}\n",
    "\n",
    "matrix operator* (matrix a, matrix b) {\n",
    "    matrix c(a.n, b.m);\n",
    "    for (int i = 0; i < a.n; i++)\n",
    "        for (int j = 0; j < b.m; j++)\n",
    "            for (int k = 0; k < a.m; k++)\n",
    "                c[i][j] += a[i][k] * b[i][k];\n",
    "     return c;\n",
    "}"
   ]
  },
  {
   "cell_type": "code",
   "execution_count": null,
   "metadata": {
    "collapsed": true
   },
   "outputs": [],
   "source": [
    "matrix binpow (matrix a, int p) {\n",
    "    matrix b(n, n);\n",
    "    for (int i = 0; i < n; i++)\n",
    "        I[i][i] = 1;\n",
    "    while (p) {\n",
    "        b = b*a;\n",
    "    }\n",
    "    return b;\n",
    "}"
   ]
  },
  {
   "cell_type": "markdown",
   "metadata": {},
   "source": [
    "Единичной называется матрица, у которой единицы стоят на главной диагонали. Обозначение: $I$.\n",
    "\n",
    "$$\n",
    "\\begin{vmatrix}\n",
    "1 & 0 & 0 \\\\\n",
    "0 & 1 & 0 \\\\\n",
    "0 & 0 & 1 \\\\\n",
    "\\end{vmatrix}\n",
    "$$\n",
    "\n",
    "В плане умножения она действительно ведет себя как единица: $AI = A = IA$."
   ]
  },
  {
   "cell_type": "markdown",
   "metadata": {},
   "source": [
    "## Системы уравнений и метод Гаусса\n",
    "\n",
    "Иногда встречаются задачи, требующие решения системы линейных уравнений. Очень большая часть из них на самом деле над полем $\\mathbb{Z}_2$ — то есть все числа по модулю 2. К примеру: есть $n$ переключателей лампочек, каждый активированный переключатель меняет состояние (включает или выключает) какого-то подмножества из $n$ лампочек. Известно состояние всех лампочек, нужно восстановить состояние переключаетелей.\n",
    "\n",
    "Нас по сути просят решить следующую систему:\n",
    "\n",
    "$$\n",
    "\\begin{cases}\n",
    "a_{11} x_1 + a_{12} x_2 + \\ldots + a_{1n} x_n \\equiv b_1 \\pmod 2\\\\\n",
    "a_{21} x_1 + a_{22} x_2 + \\ldots + a_{2n} x_n \\equiv b_2 \\pmod 2\\\\\n",
    "\\ldots \\\\\n",
    "a_{n1} x_1 + a_{n2} x_2 + \\ldots + a_{nn} x_n \\equiv b_n \\pmod 2\n",
    "\\end{cases}\n",
    "$$\n",
    "\n",
    "Здесь $x$ — состояния переключателей, $b$ — состояния лампочек, $A$ — информация о том, влияет ли переключатель на лампочку.\n",
    "\n",
    "В таком случае можно значительно ускорить и упростить обычный метод Гаусса:"
   ]
  },
  {
   "cell_type": "code",
   "execution_count": null,
   "metadata": {
    "collapsed": true
   },
   "outputs": [],
   "source": [
    "t gauss (matrix a) {\n",
    "    for (int i = 0; i < n; i++) {\n",
    "        int nonzero = i;\n",
    "        for (int j = i+1; j < n; j++)\n",
    "            if (a[j][i])\n",
    "                nonzero = j;\n",
    "        swap(a[nonzero], a[i]);\n",
    "        for (int j = 0; j < n; j++)\n",
    "            if (j != i && a[j][i])\n",
    "                a[j] ^= a[i];\n",
    "    }\n",
    "    t x;\n",
    "    for (int i = 0; i < n; i++)\n",
    "        x[i] = a[i][n] ^ a[i][i];\n",
    "    return x;\n",
    "}"
   ]
  },
  {
   "cell_type": "markdown",
   "metadata": {},
   "source": [
    "Код находит вектор $x$ из уравнения $Ax = b$ при условии, что решение существует и единственно. Для простоты кода, предполагается, что вектор $b$ приписан справа к матрице $A$."
   ]
  },
  {
   "cell_type": "markdown",
   "metadata": {},
   "source": [
    "Часто эту систему нужно решить по модулю 2. Тогда код значительно упрощается и ускоряется (опять же, см. [битсет](http://sereja.me/a/bitset#%D0%93%D0%B0%D1%83%D1%81%D1%81))."
   ]
  }
 ],
 "metadata": {
  "kernelspec": {
   "display_name": "C++17",
   "language": "C++",
   "name": "cling-cpp17"
  },
  "language_info": {
   "codemirror_mode": "c++",
   "file_extension": ".c++",
   "mimetype": "text/x-c++src",
   "name": "c++"
  }
 },
 "nbformat": 4,
 "nbformat_minor": 2
}
