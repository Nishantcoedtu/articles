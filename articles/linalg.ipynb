{
 "cells": [
  {
   "cell_type": "markdown",
   "metadata": {},
   "source": [
    "# Линейная алгебра в олимпиадном программировании"
   ]
  },
  {
   "cell_type": "markdown",
   "metadata": {},
   "source": [
    "Матрицы выглядят так:\n",
    "\n",
    "$$\n",
    "\\begin{pmatrix}\n",
    "a_{11} & a_{12} & a_{13} \\\\\n",
    "a_{21} & a_{22} & a_{23} \\\\\n",
    "a_{31} & a_{32} & a_{33} \\\\\n",
    "\\end{pmatrix}\n",
    "$$"
   ]
  },
  {
   "cell_type": "markdown",
   "metadata": {},
   "source": [
    "Самая важная для нас операция -- умножение. У матриц оно определено совсем не так, как у чисел. Если $C = AB$, то:\n",
    "\n",
    "$$ c_{ij} = \\sum_{k=1}^n a_{ik} b_{kj} $$ "
   ]
  },
  {
   "cell_type": "markdown",
   "metadata": {},
   "source": []
  },
  {
   "cell_type": "markdown",
   "metadata": {},
   "source": [
    "## Фибоначчи"
   ]
  },
  {
   "cell_type": "markdown",
   "metadata": {},
   "source": [
    "$$\n",
    "\\begin{pmatrix}\n",
    "f_{n+1} \\\\\n",
    "f_{n+2} \\\\\n",
    "\\end{pmatrix}\n",
    "=\n",
    "\\begin{pmatrix}\n",
    "0+f_{n+1} \\\\\n",
    "f_{n}+f_{n+1} \\\\\n",
    "\\end{pmatrix}\n",
    "=\n",
    "\\begin{pmatrix}\n",
    "0 & 1 \\\\\n",
    "1 & 1 \\\\\n",
    "\\end{pmatrix}\n",
    "\\begin{pmatrix}\n",
    "f_{n} \\\\\n",
    "f_{n+1} \\\\\n",
    "\\end{pmatrix}\n",
    "$$"
   ]
  },
  {
   "cell_type": "markdown",
   "metadata": {},
   "source": [
    "У него есть следующие свойства:\n",
    "* ABC = (AB)C = A(BC)"
   ]
  },
  {
   "cell_type": "markdown",
   "metadata": {},
   "source": [
    "## *Собственные вектора и красивые формулы\n",
    "\n",
    "Очень часто у матриц есть *собственные вектора* -- те, которые не меняют направление.\n",
    "\n",
    "$ Av = k v $, где $k \\neq 0$.\n",
    "\n",
    "$ Av - kv = (A-kI)v = 0 $. Это означает\n",
    "\n",
    "Вообще, собственные вектора в линейной алгебре имеют почти такое же значение, как простые числа в арифметике."
   ]
  },
  {
   "cell_type": "code",
   "execution_count": null,
   "metadata": {
    "collapsed": true
   },
   "outputs": [],
   "source": [
    "const int maxn;\n",
    "\n",
    "multiply"
   ]
  },
  {
   "cell_type": "code",
   "execution_count": null,
   "metadata": {
    "collapsed": true
   },
   "outputs": [],
   "source": [
    "struct matrix {\n",
    "    int n, m;\n",
    "    int t[];\n",
    "    matrix (int _n, int _m) {\n",
    "        n = _n, m = _m;\n",
    "        t = new int(n*m);\n",
    "        memset(t, 0, sizeof t);\n",
    "    }\n",
    "    int[] operator[] (int k) {\n",
    "        return t[k*m];\n",
    "    }\n",
    "}\n",
    "\n",
    "matrix operator* (matrix a, matrix b) {\n",
    "    matrix c(a.n, b.m);\n",
    "    for (int i = 0; i < a.n; i++)\n",
    "        for (int j = 0; j < b.m; j++)\n",
    "            for (int k = 0; k < a.m; k++)\n",
    "                c[i][j] += a[i][k] * b[i][k];\n",
    "     return c;\n",
    "}"
   ]
  },
  {
   "cell_type": "code",
   "execution_count": null,
   "metadata": {
    "collapsed": true
   },
   "outputs": [],
   "source": [
    "matrix binpow (matrix a, int p) {\n",
    "    matrix b(n, n);\n",
    "    for (int i = 0; i < n; i++)\n",
    "        I[i][i] = 1;\n",
    "    while (p) {\n",
    "        b = b*a;\n",
    "    }\n",
    "    return b;\n",
    "}"
   ]
  },
  {
   "cell_type": "markdown",
   "metadata": {},
   "source": [
    "Единичной называется матрица, у которой единицы стоят на главной диагонали. Обозначение: $I$.\n",
    "\n",
    "$$\n",
    "\\begin{vmatrix}\n",
    "1 & 0 & 0 \\\\\n",
    "0 & 1 & 0 \\\\\n",
    "0 & 0 & 1 \\\\\n",
    "\\end{vmatrix}\n",
    "$$\n",
    "\n",
    "В плане умножения она действительно ведет себя как единица: $AI = A = IA$."
   ]
  },
  {
   "cell_type": "markdown",
   "metadata": {},
   "source": [
    "## Системы уравнений и метод Гаусса\n",
    "\n"
   ]
  }
 ],
 "metadata": {
  "kernelspec": {
   "display_name": "C++17",
   "language": "C++",
   "name": "cling-cpp17"
  },
  "language_info": {
   "codemirror_mode": "c++",
   "file_extension": ".c++",
   "mimetype": "text/x-c++src",
   "name": "c++"
  }
 },
 "nbformat": 4,
 "nbformat_minor": 2
}
